{
 "cells": [
  {
   "cell_type": "code",
   "execution_count": 7,
   "metadata": {
    "scrolled": true
   },
   "outputs": [
    {
     "name": "stdout",
     "output_type": "stream",
     "text": [
      "AXP is downloaded successfully.\n",
      "AAPL is downloaded successfully.\n",
      "BA is downloaded successfully.\n",
      "CAT is downloaded successfully.\n",
      "CSCO is downloaded successfully.\n",
      "CVX is downloaded successfully.\n",
      "DWDP is downloaded successfully.\n",
      "XOM is downloaded successfully.\n",
      "GS is downloaded successfully.\n",
      "HD is downloaded successfully.\n",
      "IBM is downloaded successfully.\n",
      "INTC is downloaded successfully.\n",
      "JNJ is downloaded successfully.\n",
      "KO is downloaded successfully.\n",
      "JPM is downloaded successfully.\n",
      "MCD is downloaded successfully.\n",
      "MMM is downloaded successfully.\n",
      "MRK is downloaded successfully.\n",
      "MSFT is downloaded successfully.\n",
      "NKE is downloaded successfully.\n",
      "PFE is downloaded successfully.\n",
      "PG is downloaded successfully.\n",
      "TRV is downloaded successfully.\n",
      "UNH is downloaded successfully.\n",
      "UTX is downloaded successfully.\n",
      "VZ is downloaded successfully.\n",
      "V is downloaded successfully.\n",
      "WBA is downloaded successfully.\n",
      "WMT is downloaded successfully.\n",
      "DIS is downloaded successfully.\n"
     ]
    }
   ],
   "source": [
    "import time\n",
    "import urllib.request\n",
    "\n",
    "\n",
    "DOW_JONES = [\"AXP\",\"AAPL\",\"BA\",\"CAT\",\"CSCO\",\n",
    "             \"CVX\",\"DWDP\",\"XOM\",\"GS\",\"HD\",\n",
    "             \"IBM\",\"INTC\",\"JNJ\",\"KO\",\"JPM\",\n",
    "             \"MCD\",\"MMM\",\"MRK\",\"MSFT\",\"NKE\",\n",
    "             \"PFE\",\"PG\",\"TRV\",\"UNH\",\"UTX\",\n",
    "             \"VZ\",\"V\",\"WBA\",\"WMT\",\"DIS\"]\n",
    "\n",
    "DOWNLOAD_URI = 'https://www.alphavantage.co/query?function=TIME_SERIES_DAILY' \\\n",
    "               + '&datatype=csv&apikey=HZG37FYNRWJHAO11&outputsize=full&symbol='\n",
    "\n",
    "\n",
    "for ticker in DOW_JONES:\n",
    "    download_url = DOWNLOAD_URI + ticker\n",
    "    urllib.request.urlretrieve(download_url, ticker+'.csv')\n",
    "    print(ticker + ' is downloaded successfully.')\n",
    "    time.sleep(15)"
   ]
  },
  {
   "cell_type": "code",
   "execution_count": null,
   "metadata": {},
   "outputs": [],
   "source": []
  }
 ],
 "metadata": {
  "kernelspec": {
   "display_name": "torch",
   "language": "python",
   "name": "torch"
  },
  "language_info": {
   "codemirror_mode": {
    "name": "ipython",
    "version": 3
   },
   "file_extension": ".py",
   "mimetype": "text/x-python",
   "name": "python",
   "nbconvert_exporter": "python",
   "pygments_lexer": "ipython3",
   "version": "3.7.2"
  }
 },
 "nbformat": 4,
 "nbformat_minor": 2
}
