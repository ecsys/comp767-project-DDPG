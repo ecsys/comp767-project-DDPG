{
 "cells": [
  {
   "cell_type": "code",
   "execution_count": 1,
   "metadata": {},
   "outputs": [],
   "source": [
    "import sys\n",
    "sys.path.append(\"../\")\n",
    "\n",
    "from stock_env import *\n",
    "import numpy as np"
   ]
  },
  {
   "cell_type": "code",
   "execution_count": 15,
   "metadata": {},
   "outputs": [],
   "source": [
    "env = StockEnv()"
   ]
  },
  {
   "cell_type": "code",
   "execution_count": 10,
   "metadata": {},
   "outputs": [
    {
     "data": {
      "text/plain": [
       "array([[ -607,     0],\n",
       "       [ -953,     0],\n",
       "       [-2402,     0],\n",
       "       [-2045,     0],\n",
       "       [ -909,     0],\n",
       "       [-1164,     0],\n",
       "       [-2240,     0],\n",
       "       [-1257,     0],\n",
       "       [-1061,     0],\n",
       "       [-1457,     0],\n",
       "       [ -889,     0],\n",
       "       [-1200,     0],\n",
       "       [-1073,     0],\n",
       "       [-1744,     0],\n",
       "       [-1337,     0],\n",
       "       [-2503,     0],\n",
       "       [-1041,     0],\n",
       "       [-1457,     0],\n",
       "       [ -852,     0],\n",
       "       [-2027,     0],\n",
       "       [-3119,     0],\n",
       "       [ -927,     0],\n",
       "       [-3007,     0],\n",
       "       [-1882,     0],\n",
       "       [-1600,     0],\n",
       "       [-1649,     0],\n",
       "       [-3508,     0],\n",
       "       [-1462,     0],\n",
       "       [-3432,     0]])"
      ]
     },
     "execution_count": 10,
     "metadata": {},
     "output_type": "execute_result"
    }
   ],
   "source": [
    "env.action_space"
   ]
  },
  {
   "cell_type": "code",
   "execution_count": 17,
   "metadata": {},
   "outputs": [],
   "source": [
    "action = np.zeros(29, dtype=np.int64)\n",
    "action[2] = -2240"
   ]
  },
  {
   "cell_type": "code",
   "execution_count": 18,
   "metadata": {},
   "outputs": [],
   "source": [
    "new_state, reward, done = env.step(action)"
   ]
  },
  {
   "cell_type": "code",
   "execution_count": 19,
   "metadata": {},
   "outputs": [
    {
     "data": {
      "text/plain": [
       "array([-59,   0])"
      ]
     },
     "execution_count": 19,
     "metadata": {},
     "output_type": "execute_result"
    }
   ],
   "source": [
    "env.action_space[10]"
   ]
  },
  {
   "cell_type": "code",
   "execution_count": 7,
   "metadata": {},
   "outputs": [
    {
     "data": {
      "text/plain": [
       "{'price': array([155.3     , 108.25    ,  39.88    ,  48.13    , 105.5     ,\n",
       "         82.94    ,  43.333332,  77.38    ,  87.      ,  64.      ,\n",
       "        114.      ,  85.44    ,  91.13    ,  55.75    ,  70.62    ,\n",
       "         39.31    ,  92.88    ,  67.      , 113.56    ,  47.      ,\n",
       "         31.25    , 106.4     ,  32.5     ,  53.38    ,  61.13    ,\n",
       "         59.69    ,  27.81    ,  65.5     ,  30.06    ]),\n",
       " 'holding': array([1., 0., 0., 0., 0., 0., 0., 0., 0., 0., 0., 0., 0., 0., 0., 0., 0.,\n",
       "        0., 0., 0., 0., 0., 0., 0., 0., 0., 0., 0., 0.]),\n",
       " 'balance': 99835.5}"
      ]
     },
     "execution_count": 7,
     "metadata": {},
     "output_type": "execute_result"
    }
   ],
   "source": [
    "new_state"
   ]
  },
  {
   "cell_type": "code",
   "execution_count": null,
   "metadata": {},
   "outputs": [],
   "source": []
  }
 ],
 "metadata": {
  "kernelspec": {
   "display_name": "torch",
   "language": "python",
   "name": "torch"
  },
  "language_info": {
   "codemirror_mode": {
    "name": "ipython",
    "version": 3
   },
   "file_extension": ".py",
   "mimetype": "text/x-python",
   "name": "python",
   "nbconvert_exporter": "python",
   "pygments_lexer": "ipython3",
   "version": "3.7.2"
  }
 },
 "nbformat": 4,
 "nbformat_minor": 2
}
