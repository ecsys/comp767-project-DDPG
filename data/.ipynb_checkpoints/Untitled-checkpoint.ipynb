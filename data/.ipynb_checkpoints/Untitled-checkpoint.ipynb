{
 "cells": [
  {
   "cell_type": "code",
   "execution_count": 5,
   "metadata": {},
   "outputs": [],
   "source": [
    "import urllib.request\n",
    "\n",
    "DOW_JONES = [\"AXP\",\"AAPL\",\"BA\",\"CAT\",\"CSCO\",\n",
    "             \"CVX\",\"DWDP\",\"XOM\",\"GS\",\"HD\",\n",
    "             \"IBM\",\"INTC\",\"JNJ\",\"KO\",\"JPM\",\n",
    "             \"MCD\",\"MMM\",\"MRK\",\"MSFT\",\"NKE\",\n",
    "             \"PFE\",\"PG\",\"TRV\",\"UNH\",\"UTX\",\n",
    "             \"VZ\",\"V\",\"WBA\",\"WMT\",\"DIS\"]\n",
    "\n",
    "DOWNLOAD_URI = 'https://www.alphavantage.co/query?function=TIME_SERIES_DAILY' \\\n",
    "               + '&datatype=csv&apikey=HZG37FYNRWJHAO11&outputsize=full&symbol='\n",
    "\n",
    "for ticker in DOW_JONES:\n",
    "    download_url = DOWNLOAD_URI + ticker\n",
    "    urllib.request.urlretrieve(download_url, ticker+'.csv')\n",
    "    print(ticker + 'is downloaded successfully.')"
   ]
  },
  {
   "cell_type": "code",
   "execution_count": null,
   "metadata": {},
   "outputs": [],
   "source": []
  }
 ],
 "metadata": {
  "kernelspec": {
   "display_name": "torch",
   "language": "python",
   "name": "torch"
  },
  "language_info": {
   "codemirror_mode": {
    "name": "ipython",
    "version": 3
   },
   "file_extension": ".py",
   "mimetype": "text/x-python",
   "name": "python",
   "nbconvert_exporter": "python",
   "pygments_lexer": "ipython3",
   "version": "3.7.2"
  }
 },
 "nbformat": 4,
 "nbformat_minor": 2
}
